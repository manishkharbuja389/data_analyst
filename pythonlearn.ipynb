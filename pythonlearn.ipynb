{
 "cells": [
  {
   "cell_type": "code",
   "execution_count": 12,
   "id": "f97737af",
   "metadata": {},
   "outputs": [
    {
     "name": "stdout",
     "output_type": "stream",
     "text": [
      "15.0\n"
     ]
    }
   ],
   "source": [
    "num1=5\n",
    "num2=10\n",
    "sum1=float(num1+num2)\n",
    "print(sum1)"
   ]
  },
  {
   "cell_type": "code",
   "execution_count": 13,
   "id": "f5f54278",
   "metadata": {},
   "outputs": [
    {
     "data": {
      "text/plain": [
       "float"
      ]
     },
     "execution_count": 13,
     "metadata": {},
     "output_type": "execute_result"
    }
   ],
   "source": [
    "type(sum1)"
   ]
  },
  {
   "cell_type": "code",
   "execution_count": 16,
   "id": "6acf6c47",
   "metadata": {},
   "outputs": [
    {
     "data": {
      "text/plain": [
       "15"
      ]
     },
     "execution_count": 16,
     "metadata": {},
     "output_type": "execute_result"
    }
   ],
   "source": [
    "int(sum1)"
   ]
  },
  {
   "cell_type": "code",
   "execution_count": 17,
   "id": "2cfb7f31",
   "metadata": {},
   "outputs": [
    {
     "data": {
      "text/plain": [
       "float"
      ]
     },
     "execution_count": 17,
     "metadata": {},
     "output_type": "execute_result"
    }
   ],
   "source": [
    "type(sum1)"
   ]
  },
  {
   "cell_type": "code",
   "execution_count": 19,
   "id": "c730d848",
   "metadata": {},
   "outputs": [
    {
     "name": "stdout",
     "output_type": "stream",
     "text": [
      "Enter the number.5\n",
      "5\n"
     ]
    }
   ],
   "source": [
    "num3=input('Enter the number.')\n",
    "print(num3)"
   ]
  },
  {
   "cell_type": "code",
   "execution_count": 20,
   "id": "26c0246f",
   "metadata": {},
   "outputs": [],
   "source": [
    "#To see if a number is odd or even."
   ]
  },
  {
   "cell_type": "code",
   "execution_count": 34,
   "id": "9f18e82e",
   "metadata": {},
   "outputs": [
    {
     "name": "stdout",
     "output_type": "stream",
     "text": [
      "Enter the number15\n",
      "the given number is odd.\n"
     ]
    }
   ],
   "source": [
    "num4=int(input('Enter the number'))\n",
    "if num4%2==0:\n",
    "    print(\"The given number is even.\")\n",
    "else:\n",
    "    print(\"the given number is odd.\")"
   ]
  },
  {
   "cell_type": "code",
   "execution_count": 35,
   "id": "e65c6d31",
   "metadata": {},
   "outputs": [
    {
     "data": {
      "text/plain": [
       "25"
      ]
     },
     "execution_count": 35,
     "metadata": {},
     "output_type": "execute_result"
    }
   ],
   "source": [
    "5**2"
   ]
  },
  {
   "cell_type": "code",
   "execution_count": 36,
   "id": "32add42e",
   "metadata": {},
   "outputs": [],
   "source": [
    "div1=15/4"
   ]
  },
  {
   "cell_type": "code",
   "execution_count": 40,
   "id": "c5d47415",
   "metadata": {},
   "outputs": [
    {
     "name": "stdout",
     "output_type": "stream",
     "text": [
      "3.75\n"
     ]
    }
   ],
   "source": [
    "print(round(div1,2))"
   ]
  },
  {
   "cell_type": "code",
   "execution_count": 41,
   "id": "a80b403c",
   "metadata": {},
   "outputs": [
    {
     "data": {
      "text/plain": [
       "9.0"
      ]
     },
     "execution_count": 41,
     "metadata": {},
     "output_type": "execute_result"
    }
   ],
   "source": [
    "import math\n",
    "math.sqrt(81)"
   ]
  },
  {
   "cell_type": "code",
   "execution_count": 43,
   "id": "a847f2eb",
   "metadata": {},
   "outputs": [
    {
     "name": "stdout",
     "output_type": "stream",
     "text": [
      "1\n",
      "2\n",
      "3\n",
      "4\n",
      "5\n"
     ]
    }
   ],
   "source": [
    "for number in range(1,6):\n",
    "    print(number)"
   ]
  },
  {
   "cell_type": "code",
   "execution_count": 67,
   "id": "baa7fba0",
   "metadata": {},
   "outputs": [
    {
     "name": "stdout",
     "output_type": "stream",
     "text": [
      "The count of n is: 2\n"
     ]
    }
   ],
   "source": [
    "string1=\"My name is manish\"\n",
    "count1=string1.count('n')\n",
    "print(\"The count of n is:\", count1)"
   ]
  },
  {
   "cell_type": "code",
   "execution_count": 69,
   "id": "6db018bb",
   "metadata": {},
   "outputs": [
    {
     "name": "stdout",
     "output_type": "stream",
     "text": [
      "There is i.\n"
     ]
    }
   ],
   "source": [
    "for letter in \"manish\":\n",
    "    if letter=='i':\n",
    "        print('There is i.')"
   ]
  },
  {
   "cell_type": "code",
   "execution_count": 71,
   "id": "3dec2589",
   "metadata": {},
   "outputs": [
    {
     "name": "stdout",
     "output_type": "stream",
     "text": [
      "15\n"
     ]
    }
   ],
   "source": [
    "sum=0\n",
    "for number in range(1,6):\n",
    "    sum=sum+number\n",
    "print(sum)    "
   ]
  },
  {
   "cell_type": "code",
   "execution_count": 74,
   "id": "c3aa1421",
   "metadata": {},
   "outputs": [
    {
     "name": "stdout",
     "output_type": "stream",
     "text": [
      "0\n",
      "----------------\n",
      "0\n",
      "1\n",
      "1\n",
      "----------------\n",
      "0\n",
      "1\n",
      "2\n",
      "----------------\n",
      "0\n",
      "1\n",
      "3\n",
      "----------------\n",
      "0\n",
      "1\n",
      "4\n",
      "----------------\n",
      "0\n",
      "1\n"
     ]
    }
   ],
   "source": [
    "for i in range(0,5):\n",
    "    print(i)\n",
    "    print('----------------')\n",
    "    for j in range(0,2):\n",
    "        print(j)"
   ]
  },
  {
   "cell_type": "code",
   "execution_count": 79,
   "id": "8e447281",
   "metadata": {},
   "outputs": [
    {
     "name": "stdout",
     "output_type": "stream",
     "text": [
      "1\n",
      "2\n",
      "3\n",
      "4\n",
      "5\n"
     ]
    }
   ],
   "source": [
    "number=1\n",
    "while number<6:\n",
    "    print(number)\n",
    "    number=number+1"
   ]
  },
  {
   "cell_type": "code",
   "execution_count": 80,
   "id": "6c9b25c3",
   "metadata": {},
   "outputs": [
    {
     "name": "stdout",
     "output_type": "stream",
     "text": [
      "15\n"
     ]
    }
   ],
   "source": [
    "sum=0\n",
    "numb1=1\n",
    "while numb1<6:\n",
    "    sum+=numb1\n",
    "    numb1+=1\n",
    "print(sum)"
   ]
  },
  {
   "cell_type": "code",
   "execution_count": 81,
   "id": "915d1701",
   "metadata": {},
   "outputs": [
    {
     "data": {
      "text/plain": [
       "6"
      ]
     },
     "execution_count": 81,
     "metadata": {},
     "output_type": "execute_result"
    }
   ],
   "source": [
    "2*3"
   ]
  },
  {
   "cell_type": "code",
   "execution_count": 84,
   "id": "09c762e8",
   "metadata": {},
   "outputs": [
    {
     "name": "stdout",
     "output_type": "stream",
     "text": [
      "Text\n"
     ]
    }
   ],
   "source": [
    "def message():\n",
    "    print('Text')\n",
    "message()"
   ]
  },
  {
   "cell_type": "code",
   "execution_count": 85,
   "id": "e5a14f0f",
   "metadata": {},
   "outputs": [
    {
     "name": "stdout",
     "output_type": "stream",
     "text": [
      "text 1\n"
     ]
    }
   ],
   "source": [
    "def message(text):\n",
    "    print(text)\n",
    "message('text 1')"
   ]
  },
  {
   "cell_type": "code",
   "execution_count": 87,
   "id": "7a9c00fe",
   "metadata": {},
   "outputs": [
    {
     "name": "stdout",
     "output_type": "stream",
     "text": [
      "3\n"
     ]
    }
   ],
   "source": [
    "def sum(a,b):\n",
    "    print(a+b)\n",
    "sum(1,2)"
   ]
  },
  {
   "cell_type": "code",
   "execution_count": 88,
   "id": "874f76a6",
   "metadata": {},
   "outputs": [
    {
     "name": "stdout",
     "output_type": "stream",
     "text": [
      "5\n"
     ]
    }
   ],
   "source": [
    "def sum(a,b):\n",
    "    return a+b\n",
    "r=sum(2,3)\n",
    "print(r)"
   ]
  },
  {
   "cell_type": "code",
   "execution_count": 94,
   "id": "bc1b7aea",
   "metadata": {},
   "outputs": [
    {
     "data": {
      "text/plain": [
       "('cat', 'dog', 'mouse')"
      ]
     },
     "execution_count": 94,
     "metadata": {},
     "output_type": "execute_result"
    }
   ],
   "source": [
    "tuple1=('cat','dog','mouse')\n",
    "tuple1\n"
   ]
  },
  {
   "cell_type": "code",
   "execution_count": 95,
   "id": "2dbc78f2",
   "metadata": {},
   "outputs": [
    {
     "data": {
      "text/plain": [
       "'mouse'"
      ]
     },
     "execution_count": 95,
     "metadata": {},
     "output_type": "execute_result"
    }
   ],
   "source": [
    "tuple1[2]"
   ]
  },
  {
   "cell_type": "code",
   "execution_count": 96,
   "id": "bc93c050",
   "metadata": {},
   "outputs": [
    {
     "data": {
      "text/plain": [
       "['cat', 'dog', 'mouse']"
      ]
     },
     "execution_count": 96,
     "metadata": {},
     "output_type": "execute_result"
    }
   ],
   "source": [
    "list1=['cat','dog','mouse']\n",
    "list1"
   ]
  },
  {
   "cell_type": "code",
   "execution_count": 97,
   "id": "8a1958d5",
   "metadata": {},
   "outputs": [
    {
     "data": {
      "text/plain": [
       "'cat'"
      ]
     },
     "execution_count": 97,
     "metadata": {},
     "output_type": "execute_result"
    }
   ],
   "source": [
    "list1[0]"
   ]
  },
  {
   "cell_type": "code",
   "execution_count": 98,
   "id": "922ed69b",
   "metadata": {},
   "outputs": [
    {
     "data": {
      "text/plain": [
       "list"
      ]
     },
     "execution_count": 98,
     "metadata": {},
     "output_type": "execute_result"
    }
   ],
   "source": [
    "type(list1)"
   ]
  },
  {
   "cell_type": "code",
   "execution_count": 99,
   "id": "271c016b",
   "metadata": {},
   "outputs": [
    {
     "data": {
      "text/plain": [
       "tuple"
      ]
     },
     "execution_count": 99,
     "metadata": {},
     "output_type": "execute_result"
    }
   ],
   "source": [
    "type(tuple1)"
   ]
  },
  {
   "cell_type": "code",
   "execution_count": 100,
   "id": "8671cfac",
   "metadata": {},
   "outputs": [],
   "source": [
    "list2=['hen','sparrow','peigon']"
   ]
  },
  {
   "cell_type": "code",
   "execution_count": 101,
   "id": "ca8601b5",
   "metadata": {},
   "outputs": [],
   "source": [
    "list3=list1+list2"
   ]
  },
  {
   "cell_type": "code",
   "execution_count": 102,
   "id": "1ec2c9f6",
   "metadata": {},
   "outputs": [
    {
     "data": {
      "text/plain": [
       "['cat', 'dog', 'mouse', 'hen', 'sparrow', 'peigon']"
      ]
     },
     "execution_count": 102,
     "metadata": {},
     "output_type": "execute_result"
    }
   ],
   "source": [
    "list3"
   ]
  },
  {
   "cell_type": "code",
   "execution_count": 103,
   "id": "7cc03ea0",
   "metadata": {},
   "outputs": [
    {
     "data": {
      "text/plain": [
       "['cat', 'dog', 'mouse', 'hen']"
      ]
     },
     "execution_count": 103,
     "metadata": {},
     "output_type": "execute_result"
    }
   ],
   "source": [
    "list3[0:4]"
   ]
  },
  {
   "cell_type": "code",
   "execution_count": 104,
   "id": "94453399",
   "metadata": {},
   "outputs": [],
   "source": [
    "list1.append('monkey')\n",
    "list1.remove('mouse')"
   ]
  },
  {
   "cell_type": "code",
   "execution_count": 105,
   "id": "bab49078",
   "metadata": {},
   "outputs": [
    {
     "data": {
      "text/plain": [
       "['cat', 'dog', 'monkey']"
      ]
     },
     "execution_count": 105,
     "metadata": {},
     "output_type": "execute_result"
    }
   ],
   "source": [
    "list1"
   ]
  },
  {
   "cell_type": "code",
   "execution_count": 106,
   "id": "d72a49dc",
   "metadata": {},
   "outputs": [
    {
     "name": "stdout",
     "output_type": "stream",
     "text": [
      "cat\n",
      "dog\n",
      "monkey\n"
     ]
    }
   ],
   "source": [
    "for i in list1:\n",
    "    print(i)"
   ]
  },
  {
   "cell_type": "code",
   "execution_count": 107,
   "id": "b7ff834b",
   "metadata": {},
   "outputs": [],
   "source": [
    "student={'name':'Manish','age':24,'email':'manish.kharbuja389@gmail.com'}"
   ]
  },
  {
   "cell_type": "code",
   "execution_count": 109,
   "id": "1bfffefb",
   "metadata": {},
   "outputs": [
    {
     "data": {
      "text/plain": [
       "'Manish'"
      ]
     },
     "execution_count": 109,
     "metadata": {},
     "output_type": "execute_result"
    }
   ],
   "source": [
    "student['name']"
   ]
  },
  {
   "cell_type": "code",
   "execution_count": 110,
   "id": "9b186fe0",
   "metadata": {},
   "outputs": [
    {
     "data": {
      "text/plain": [
       "dict"
      ]
     },
     "execution_count": 110,
     "metadata": {},
     "output_type": "execute_result"
    }
   ],
   "source": [
    "type(student)"
   ]
  },
  {
   "cell_type": "code",
   "execution_count": 111,
   "id": "6e072b98",
   "metadata": {},
   "outputs": [
    {
     "data": {
      "text/plain": [
       "{'name': 'Manish', 'age': 24, 'email': 'manish.kharbuja389@gmail.com'}"
      ]
     },
     "execution_count": 111,
     "metadata": {},
     "output_type": "execute_result"
    }
   ],
   "source": [
    "student"
   ]
  },
  {
   "cell_type": "code",
   "execution_count": 115,
   "id": "be964b27",
   "metadata": {},
   "outputs": [],
   "source": [
    "student['number']=9860162514\n",
    "#Used to append"
   ]
  },
  {
   "cell_type": "code",
   "execution_count": 116,
   "id": "577aa224",
   "metadata": {},
   "outputs": [
    {
     "data": {
      "text/plain": [
       "{'name': 'Manish',\n",
       " 'age': 24,\n",
       " 'email': 'manish.kharbuja389@gmail.com',\n",
       " 'number': 9860162514}"
      ]
     },
     "execution_count": 116,
     "metadata": {},
     "output_type": "execute_result"
    }
   ],
   "source": [
    "student"
   ]
  },
  {
   "cell_type": "code",
   "execution_count": 117,
   "id": "ecd1f04c",
   "metadata": {},
   "outputs": [],
   "source": [
    "del(student)['age']"
   ]
  },
  {
   "cell_type": "code",
   "execution_count": 118,
   "id": "5180c064",
   "metadata": {},
   "outputs": [
    {
     "data": {
      "text/plain": [
       "{'name': 'Manish',\n",
       " 'email': 'manish.kharbuja389@gmail.com',\n",
       " 'number': 9860162514}"
      ]
     },
     "execution_count": 118,
     "metadata": {},
     "output_type": "execute_result"
    }
   ],
   "source": [
    "student"
   ]
  },
  {
   "cell_type": "code",
   "execution_count": 119,
   "id": "598c0d16",
   "metadata": {},
   "outputs": [
    {
     "ename": "AttributeError",
     "evalue": "'dict' object has no attribute 'key'",
     "output_type": "error",
     "traceback": [
      "\u001b[1;31m---------------------------------------------------------------------------\u001b[0m",
      "\u001b[1;31mAttributeError\u001b[0m                            Traceback (most recent call last)",
      "Input \u001b[1;32mIn [119]\u001b[0m, in \u001b[0;36m<cell line: 1>\u001b[1;34m()\u001b[0m\n\u001b[1;32m----> 1\u001b[0m \u001b[43mstudent\u001b[49m\u001b[38;5;241;43m.\u001b[39;49m\u001b[43mkey\u001b[49m()\n",
      "\u001b[1;31mAttributeError\u001b[0m: 'dict' object has no attribute 'key'"
     ]
    }
   ],
   "source": [
    "student.key()"
   ]
  },
  {
   "cell_type": "code",
   "execution_count": 120,
   "id": "62ec82d6",
   "metadata": {},
   "outputs": [
    {
     "data": {
      "text/plain": [
       "dict_items([('name', 'Manish'), ('email', 'manish.kharbuja389@gmail.com'), ('number', 9860162514)])"
      ]
     },
     "execution_count": 120,
     "metadata": {},
     "output_type": "execute_result"
    }
   ],
   "source": [
    "student.items()"
   ]
  },
  {
   "cell_type": "code",
   "execution_count": 121,
   "id": "00aecb0b",
   "metadata": {},
   "outputs": [
    {
     "data": {
      "text/plain": [
       "dict_values(['Manish', 'manish.kharbuja389@gmail.com', 9860162514])"
      ]
     },
     "execution_count": 121,
     "metadata": {},
     "output_type": "execute_result"
    }
   ],
   "source": [
    "student.values()"
   ]
  },
  {
   "cell_type": "code",
   "execution_count": 122,
   "id": "e7f7310e",
   "metadata": {},
   "outputs": [
    {
     "data": {
      "text/plain": [
       "dict_keys(['name', 'email', 'number'])"
      ]
     },
     "execution_count": 122,
     "metadata": {},
     "output_type": "execute_result"
    }
   ],
   "source": [
    "student.keys()"
   ]
  },
  {
   "cell_type": "code",
   "execution_count": 123,
   "id": "793b20e8",
   "metadata": {},
   "outputs": [],
   "source": [
    "student2={'name':'Anish'}"
   ]
  },
  {
   "cell_type": "code",
   "execution_count": 124,
   "id": "92b45fda",
   "metadata": {},
   "outputs": [],
   "source": [
    "student.update(student2)"
   ]
  },
  {
   "cell_type": "code",
   "execution_count": 125,
   "id": "dcb24913",
   "metadata": {},
   "outputs": [
    {
     "data": {
      "text/plain": [
       "{'name': 'Anish',\n",
       " 'email': 'manish.kharbuja389@gmail.com',\n",
       " 'number': 9860162514}"
      ]
     },
     "execution_count": 125,
     "metadata": {},
     "output_type": "execute_result"
    }
   ],
   "source": [
    "student"
   ]
  },
  {
   "cell_type": "code",
   "execution_count": 126,
   "id": "c15f4e0c",
   "metadata": {},
   "outputs": [
    {
     "data": {
      "text/plain": [
       "{'name': 'Anish'}"
      ]
     },
     "execution_count": 126,
     "metadata": {},
     "output_type": "execute_result"
    }
   ],
   "source": [
    "student2"
   ]
  },
  {
   "cell_type": "code",
   "execution_count": 127,
   "id": "f08979e8",
   "metadata": {},
   "outputs": [],
   "source": [
    "set1=('a','b','c','d','a','c')"
   ]
  },
  {
   "cell_type": "code",
   "execution_count": 128,
   "id": "03aad841",
   "metadata": {},
   "outputs": [
    {
     "data": {
      "text/plain": [
       "('a', 'b', 'c', 'd', 'a', 'c')"
      ]
     },
     "execution_count": 128,
     "metadata": {},
     "output_type": "execute_result"
    }
   ],
   "source": [
    "set1"
   ]
  },
  {
   "cell_type": "code",
   "execution_count": 129,
   "id": "a186827f",
   "metadata": {},
   "outputs": [
    {
     "data": {
      "text/plain": [
       "{'a', 'b', 'c', 'd'}"
      ]
     },
     "execution_count": 129,
     "metadata": {},
     "output_type": "execute_result"
    }
   ],
   "source": [
    "set(set1)"
   ]
  },
  {
   "cell_type": "code",
   "execution_count": 130,
   "id": "d2ae9478",
   "metadata": {},
   "outputs": [],
   "source": [
    "s1={1,2,3,4,5}\n",
    "s2={3,4,5,6,7}"
   ]
  },
  {
   "cell_type": "code",
   "execution_count": 132,
   "id": "899aab56",
   "metadata": {},
   "outputs": [
    {
     "name": "stdout",
     "output_type": "stream",
     "text": [
      "{3, 4, 5}\n"
     ]
    }
   ],
   "source": [
    "s3=s1.intersection(s2)\n",
    "print(s3)\n",
    "#elements available in both s1 and s2"
   ]
  },
  {
   "cell_type": "code",
   "execution_count": 133,
   "id": "80e455a4",
   "metadata": {},
   "outputs": [
    {
     "data": {
      "text/plain": [
       "{1, 2}"
      ]
     },
     "execution_count": 133,
     "metadata": {},
     "output_type": "execute_result"
    }
   ],
   "source": [
    "s1.difference(s2)\n",
    "#only elements available in s1"
   ]
  },
  {
   "cell_type": "code",
   "execution_count": 134,
   "id": "efa1d81c",
   "metadata": {},
   "outputs": [
    {
     "data": {
      "text/plain": [
       "{6, 7}"
      ]
     },
     "execution_count": 134,
     "metadata": {},
     "output_type": "execute_result"
    }
   ],
   "source": [
    "s2.difference(s1)\n",
    "#only elements available in s2"
   ]
  },
  {
   "cell_type": "code",
   "execution_count": 138,
   "id": "8e773b15",
   "metadata": {},
   "outputs": [
    {
     "name": "stdout",
     "output_type": "stream",
     "text": [
      "Type the number1\n",
      "Type the number2\n",
      "Type the number3\n",
      "Type the number4\n",
      "Type the number5\n"
     ]
    },
    {
     "data": {
      "text/plain": [
       "[1, 2, 3, 4, 5]"
      ]
     },
     "execution_count": 138,
     "metadata": {},
     "output_type": "execute_result"
    }
   ],
   "source": [
    "list3=[]\n",
    "for i in range(0,5):\n",
    "    number5=int(input('Type the number'))\n",
    "    list3.append(number5)\n",
    "list3"
   ]
  },
  {
   "cell_type": "code",
   "execution_count": null,
   "id": "7107b09a",
   "metadata": {},
   "outputs": [],
   "source": []
  },
  {
   "cell_type": "code",
   "execution_count": 1,
   "id": "ccb179c5",
   "metadata": {},
   "outputs": [
    {
     "name": "stdout",
     "output_type": "stream",
     "text": [
      "0.875\n"
     ]
    }
   ],
   "source": [
    "print(7/8)"
   ]
  },
  {
   "cell_type": "code",
   "execution_count": 6,
   "id": "09c8fa97",
   "metadata": {},
   "outputs": [
    {
     "name": "stdout",
     "output_type": "stream",
     "text": [
      "194.87170999999998\n"
     ]
    }
   ],
   "source": [
    "x=100\n",
    "y=10\n",
    "z=7\n",
    "\n",
    "for i in range(0,7):\n",
    "    interest=0.1*x\n",
    "    x=x + interest\n",
    "    i=i+1\n",
    "#     print(x)\n",
    "print(x)"
   ]
  },
  {
   "cell_type": "code",
   "execution_count": 10,
   "id": "c0139a67",
   "metadata": {},
   "outputs": [],
   "source": [
    "desc=\"compound interest\"\n",
    "profitable=True"
   ]
  },
  {
   "cell_type": "code",
   "execution_count": 11,
   "id": "9709c3ca",
   "metadata": {},
   "outputs": [
    {
     "data": {
      "text/plain": [
       "bool"
      ]
     },
     "execution_count": 11,
     "metadata": {},
     "output_type": "execute_result"
    }
   ],
   "source": [
    "type(profitable)"
   ]
  },
  {
   "cell_type": "code",
   "execution_count": 13,
   "id": "afc2bbb5",
   "metadata": {},
   "outputs": [],
   "source": [
    "pi_string=\"3.1415926\""
   ]
  },
  {
   "cell_type": "code",
   "execution_count": 14,
   "id": "80da1a20",
   "metadata": {},
   "outputs": [],
   "source": [
    "pi_float=float(pi_string)"
   ]
  },
  {
   "cell_type": "code",
   "execution_count": 15,
   "id": "df88106a",
   "metadata": {},
   "outputs": [
    {
     "name": "stdout",
     "output_type": "stream",
     "text": [
      "3.1415926\n"
     ]
    }
   ],
   "source": [
    "print(pi_float)"
   ]
  },
  {
   "cell_type": "code",
   "execution_count": 22,
   "id": "7634a252",
   "metadata": {},
   "outputs": [
    {
     "name": "stdout",
     "output_type": "stream",
     "text": [
      "I started with $100 and now have $194.87171000000012. Awesome!\n",
      "I started with $100 and now have $194.87171000000012. Awesome!\n"
     ]
    }
   ],
   "source": [
    "saving=100\n",
    "result=100*1.10**7\n",
    "print(\"I started with $\" + str(saving)+\" and now have $\" + str(result) + \". Awesome!\")\n",
    "print(\"I started with $\" + str(saving)+\" and now have $\" + str(result) + \". Awesome!\")"
   ]
  },
  {
   "cell_type": "code",
   "execution_count": 23,
   "id": "7e6877fa",
   "metadata": {},
   "outputs": [
    {
     "data": {
      "text/plain": [
       "[3]"
      ]
     },
     "execution_count": 23,
     "metadata": {},
     "output_type": "execute_result"
    }
   ],
   "source": [
    "[1+2]"
   ]
  },
  {
   "cell_type": "code",
   "execution_count": 24,
   "id": "f1b78088",
   "metadata": {},
   "outputs": [
    {
     "data": {
      "text/plain": [
       "[3, 'aaaaa', 3]"
      ]
     },
     "execution_count": 24,
     "metadata": {},
     "output_type": "execute_result"
    }
   ],
   "source": [
    "[1+2,\"a\"*5,3]"
   ]
  },
  {
   "cell_type": "code",
   "execution_count": 27,
   "id": "37cf1ea0",
   "metadata": {},
   "outputs": [
    {
     "data": {
      "text/plain": [
       "[[1, 2, 3], [4, 5, 7]]"
      ]
     },
     "execution_count": 27,
     "metadata": {},
     "output_type": "execute_result"
    }
   ],
   "source": [
    "[[1,2,3],[4,5,7]]"
   ]
  },
  {
   "cell_type": "code",
   "execution_count": 28,
   "id": "c6ae81c9",
   "metadata": {},
   "outputs": [],
   "source": [
    "areas = [\"hallway\", 11.25, \"kitchen\", 18.0, \"living room\", 20.0, \"bedroom\", 10.75, \"bathroom\", 9.50]"
   ]
  },
  {
   "cell_type": "code",
   "execution_count": 30,
   "id": "dfcc5fd1",
   "metadata": {},
   "outputs": [
    {
     "name": "stdout",
     "output_type": "stream",
     "text": [
      "['hallway', 11.25, 'kitchen', 18.0, 'living room', 20.0]\n"
     ]
    }
   ],
   "source": [
    "downstairs = areas[0:6]\n",
    "print(downstairs)"
   ]
  },
  {
   "cell_type": "code",
   "execution_count": 31,
   "id": "6fcf0211",
   "metadata": {},
   "outputs": [
    {
     "name": "stdout",
     "output_type": "stream",
     "text": [
      "['bedroom', 10.75, 'bathroom', 9.5]\n"
     ]
    }
   ],
   "source": [
    "upstairs = areas[6:]\n",
    "print(upstairs)"
   ]
  },
  {
   "cell_type": "code",
   "execution_count": 33,
   "id": "81c8171d",
   "metadata": {},
   "outputs": [],
   "source": [
    "a=\"manish\""
   ]
  },
  {
   "cell_type": "code",
   "execution_count": 34,
   "id": "2f1b4d64",
   "metadata": {},
   "outputs": [
    {
     "name": "stdout",
     "output_type": "stream",
     "text": [
      "MANISH\n"
     ]
    }
   ],
   "source": [
    "print(a.upper())"
   ]
  },
  {
   "cell_type": "code",
   "execution_count": 35,
   "id": "28d375f6",
   "metadata": {},
   "outputs": [],
   "source": [
    "a=\"MANISH\""
   ]
  },
  {
   "cell_type": "code",
   "execution_count": 36,
   "id": "ee727f7f",
   "metadata": {},
   "outputs": [
    {
     "name": "stdout",
     "output_type": "stream",
     "text": [
      "manish\n"
     ]
    }
   ],
   "source": [
    "print(a.lower())"
   ]
  },
  {
   "cell_type": "code",
   "execution_count": 37,
   "id": "aa8a25eb",
   "metadata": {},
   "outputs": [],
   "source": [
    "x=[1,2,3,4,5,1,3,2,9]"
   ]
  },
  {
   "cell_type": "code",
   "execution_count": 41,
   "id": "96f7f003",
   "metadata": {},
   "outputs": [
    {
     "name": "stdout",
     "output_type": "stream",
     "text": [
      "2\n"
     ]
    }
   ],
   "source": [
    "print(x.index(3))"
   ]
  },
  {
   "cell_type": "code",
   "execution_count": 42,
   "id": "8072b402",
   "metadata": {},
   "outputs": [
    {
     "name": "stdout",
     "output_type": "stream",
     "text": [
      "2\n"
     ]
    }
   ],
   "source": [
    "print(x.count(1))"
   ]
  },
  {
   "cell_type": "code",
   "execution_count": 43,
   "id": "98098f23",
   "metadata": {},
   "outputs": [
    {
     "name": "stdout",
     "output_type": "stream",
     "text": [
      "[1, 2, 3, 4, 5, 1, 3, 2, 9]\n"
     ]
    }
   ],
   "source": [
    "print(x)"
   ]
  },
  {
   "cell_type": "code",
   "execution_count": 44,
   "id": "74b79409",
   "metadata": {},
   "outputs": [],
   "source": [
    "x.append(10)"
   ]
  },
  {
   "cell_type": "code",
   "execution_count": 45,
   "id": "6fde4e16",
   "metadata": {},
   "outputs": [
    {
     "name": "stdout",
     "output_type": "stream",
     "text": [
      "[1, 2, 3, 4, 5, 1, 3, 2, 9, 10]\n"
     ]
    }
   ],
   "source": [
    "print(x)"
   ]
  },
  {
   "cell_type": "code",
   "execution_count": 46,
   "id": "84998ebf",
   "metadata": {},
   "outputs": [
    {
     "name": "stdout",
     "output_type": "stream",
     "text": [
      "[10, 9, 2, 3, 1, 5, 4, 3, 2, 1]\n"
     ]
    }
   ],
   "source": [
    "x.reverse()\n",
    "print(x)"
   ]
  },
  {
   "cell_type": "code",
   "execution_count": null,
   "id": "99968263",
   "metadata": {},
   "outputs": [],
   "source": []
  }
 ],
 "metadata": {
  "kernelspec": {
   "display_name": "Python 3 (ipykernel)",
   "language": "python",
   "name": "python3"
  },
  "language_info": {
   "codemirror_mode": {
    "name": "ipython",
    "version": 3
   },
   "file_extension": ".py",
   "mimetype": "text/x-python",
   "name": "python",
   "nbconvert_exporter": "python",
   "pygments_lexer": "ipython3",
   "version": "3.9.12"
  }
 },
 "nbformat": 4,
 "nbformat_minor": 5
}
