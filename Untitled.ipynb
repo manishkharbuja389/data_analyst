{
 "cells": [
  {
   "cell_type": "code",
   "execution_count": 190,
   "metadata": {},
   "outputs": [
    {
     "data": {
      "text/plain": [
       "3"
      ]
     },
     "execution_count": 190,
     "metadata": {},
     "output_type": "execute_result"
    }
   ],
   "source": [
    "1+2"
   ]
  },
  {
   "cell_type": "code",
   "execution_count": 191,
   "id": "671adff0",
   "metadata": {},
   "outputs": [
    {
     "name": "stdout",
     "output_type": "stream",
     "text": [
      "C\n",
      "CO\n",
      "COT\n",
      "COTI\n",
      "COTIV\n",
      "COTIVI\n",
      "COTIVIT\n",
      "COTIVITI\n"
     ]
    }
   ],
   "source": [
    "a=\"COTIVITI\"\n",
    "for i in range(1,9):\n",
    "    print (a[0:i])"
   ]
  },
  {
   "cell_type": "code",
   "execution_count": 192,
   "id": "24d0bb56",
   "metadata": {},
   "outputs": [
    {
     "name": "stdout",
     "output_type": "stream",
     "text": [
      "The number of i is 1\n"
     ]
    }
   ],
   "source": [
    "a=\"CotivITI\"\n",
    "num=0\n",
    "for letter in a:\n",
    "    if letter==\"i\":\n",
    "        num=num+1\n",
    "print(\"The number of i is\", num)"
   ]
  },
  {
   "cell_type": "code",
   "execution_count": 193,
   "id": "5b156d9a",
   "metadata": {},
   "outputs": [
    {
     "name": "stdout",
     "output_type": "stream",
     "text": [
      "Cotiviti\n",
      "Cotiviti\n",
      "Cotiviti\n",
      "Cotiviti\n",
      "Cotiviti\n"
     ]
    }
   ],
   "source": [
    "class cotiviti:\n",
    "    def __init__(self):\n",
    "        self.geek = \"Cotiviti\"\n",
    "    \n",
    "    def print(self):\n",
    "        for i in range(0,5):\n",
    "            print(self.geek)\n",
    "\n",
    "obj = cotiviti()\n",
    "\n",
    "obj.print()\n"
   ]
  },
  {
   "cell_type": "code",
   "execution_count": 194,
   "id": "b849bebf",
   "metadata": {},
   "outputs": [
    {
     "name": "stdout",
     "output_type": "stream",
     "text": [
      "<built-in function sum>\n",
      "15\n"
     ]
    }
   ],
   "source": [
    "def add():\n",
    "    a=[1,2,3,4,5]\n",
    "    n=0\n",
    "    for i in range(0,5):\n",
    "        n=n+a[i]\n",
    "    print(n)\n",
    "\n",
    "add()"
   ]
  },
  {
   "cell_type": "code",
   "execution_count": null,
   "id": "46fb8a26",
   "metadata": {},
   "outputs": [],
   "source": []
  }
 ],
 "metadata": {
  "kernelspec": {
   "display_name": "Python 3.10.6 64-bit",
   "language": "python",
   "name": "python3"
  },
  "language_info": {
   "codemirror_mode": {
    "name": "ipython",
    "version": 3
   },
   "file_extension": ".py",
   "mimetype": "text/x-python",
   "name": "python",
   "nbconvert_exporter": "python",
   "pygments_lexer": "ipython3",
   "version": "3.10.6"
  },
  "vscode": {
   "interpreter": {
    "hash": "369f2c481f4da34e4445cda3fffd2e751bd1c4d706f27375911949ba6bb62e1c"
   }
  }
 },
 "nbformat": 4,
 "nbformat_minor": 5
}
